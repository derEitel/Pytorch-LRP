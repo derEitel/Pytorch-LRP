{
 "cells": [
  {
   "cell_type": "markdown",
   "metadata": {},
   "source": [
    "##### Import packages"
   ]
  },
  {
   "cell_type": "code",
   "execution_count": 1,
   "metadata": {
    "collapsed": true,
    "scrolled": true
   },
   "outputs": [],
   "source": [
    "%load_ext autoreload\n",
    "%autoreload 2"
   ]
  },
  {
   "cell_type": "code",
   "execution_count": 2,
   "metadata": {
    "collapsed": true
   },
   "outputs": [],
   "source": [
    "import sys \n",
    "import os\n",
    "sys.path.insert(0, os.getcwd())"
   ]
  },
  {
   "cell_type": "code",
   "execution_count": 5,
   "metadata": {},
   "outputs": [
    {
     "name": "stdout",
     "output_type": "stream",
     "text": [
      "Adding model_path to namespace\n",
      "Adding data_path to namespace\n",
      "Adding ADNI_DIR to namespace\n",
      "Adding train_h5 to namespace\n",
      "Adding val_h5 to namespace\n",
      "Adding holdout_h5 to namespace\n",
      "Adding binary_brain_mask to namespace\n",
      "Adding nmm_mask_path to namespace\n",
      "Adding nmm_mask_path_scaled to namespace\n"
     ]
    }
   ],
   "source": [
    "import torch \n",
    "import pickle\n",
    "import nibabel\n",
    "\n",
    "from jrieke.utils import load_nifti, save_nifti\n",
    "from innvestigator import InnvestigateModel\n",
    "from settings import settings\n",
    "from utils import load_data, scale_mask\n",
    "from jrieke import interpretation\n",
    "from nmm_mask_areas import all_areas\n",
    "\n",
    "import numpy as np\n",
    "import pickle\n",
    "import jrieke.models as models\n",
    "\n",
    "\n",
    "for k in settings.keys():\n",
    "    print(\"Adding \" + k + \" to namespace\")\n",
    "    globals()[k] = settings[k]"
   ]
  },
  {
   "cell_type": "code",
   "execution_count": 12,
   "metadata": {
    "collapsed": true
   },
   "outputs": [],
   "source": [
    "# where to store the individual maps\n",
    "output_dir = \"/ritter/share/projects/Methods/LRP/data/forDi/\""
   ]
  },
  {
   "cell_type": "markdown",
   "metadata": {},
   "source": [
    "## Load model"
   ]
  },
  {
   "cell_type": "code",
   "execution_count": 6,
   "metadata": {},
   "outputs": [
    {
     "name": "stdout",
     "output_type": "stream",
     "text": [
      "WARNING: With the chosen beta value, only negative contributions will be taken into account.\n",
      "Hence, if in any layer only positive contributions exist, the overall relevance will not be conserved.\n",
      "\n"
     ]
    }
   ],
   "source": [
    "device = 6\n",
    "net = models.ClassificationModel3D_2Node()\n",
    "net.cuda(device)\n",
    "net.load_state_dict(torch.load(model_path,\n",
    "                              map_location='cpu'))\n",
    "net.eval()\n",
    "net = torch.nn.Sequential(net, torch.nn.Softmax(dim=1))\n",
    "inn_model = InnvestigateModel(net, lrp_exponent=1,\n",
    "                                  method=\"b-rule\",\n",
    "                                  beta=0, epsilon=1e-6).cuda(device)\n",
    "inn_model.eval();\n"
   ]
  },
  {
   "cell_type": "markdown",
   "metadata": {},
   "source": [
    "## Load ADNI Data"
   ]
  },
  {
   "cell_type": "code",
   "execution_count": 7,
   "metadata": {
    "collapsed": true
   },
   "outputs": [],
   "source": [
    "import h5py"
   ]
  },
  {
   "cell_type": "code",
   "execution_count": 8,
   "metadata": {
    "collapsed": true
   },
   "outputs": [],
   "source": [
    "def min_max_normalization(subset):\n",
    "    for i in range(len(subset)):\n",
    "        subset[i] -= np.min(subset[i])\n",
    "        subset[i] /= np.max(subset[i])\n",
    "    return subset\n",
    "    \n",
    "def load_data(skip_train=True, skip_val=True, skip_test=False, dtype=np.float32):\n",
    "    \"\"\" Load hdf5 files and extract columns. \"\"\"\n",
    "    X_train, y_train, X_val, y_val, X_holdout, y_holdout = np.nan, np.nan, np.nan, np.nan, np.nan, np.nan\n",
    "    # train\n",
    "    if not skip_train:\n",
    "        train_h5_ = h5py.File(train_h5, 'r')\n",
    "        X_train, y_train = train_h5_['X'], train_h5_['y']\n",
    "        X_train = np.expand_dims(np.array(X_train, dtype=dtype), 1)\n",
    "        X_train = min_max_normalization(X_train)\n",
    "        y_train = np.array(y_train)\n",
    "        print(\"Total training set length: {}\".format(len(y_train)))\n",
    "        print(\"Number of healthy controls: {}\".format(len(np.array(y_train)[np.array(y_train)==0.])))\n",
    "        print(\"Number of AD patients: {}\".format(len(np.array(y_train)[np.array(y_train)==1.])))\n",
    "    if not skip_val:\n",
    "        # val\n",
    "        val_h5_ = h5py.File(val_h5, 'r')\n",
    "        X_val, y_val = val_h5_['X'], val_h5_['y']\n",
    "        X_val = np.expand_dims(np.array(X_val, dtype=dtype), 1)\n",
    "        X_val = min_max_normalization(X_val)\n",
    "        y_val = np.array(y_val)\n",
    "        print(\"Total validation set length: {}\".format(len(y_val)))\n",
    "    if not skip_test:\n",
    "        # test\n",
    "        holdout_h5_ = h5py.File(holdout_h5, 'r')\n",
    "        X_holdout, y_holdout = holdout_h5_['X'], holdout_h5_['y']\n",
    "        X_holdout = np.expand_dims(np.array(X_holdout, dtype=dtype), 1)\n",
    "        X_holdout = min_max_normalization(X_holdout)\n",
    "        y_holdout = np.array(y_holdout)\n",
    "        print(\"Total test set length: {}\".format(len(y_holdout)))\n",
    "   \n",
    "    return X_train, y_train, X_val, y_val, X_holdout, y_holdout\n"
   ]
  },
  {
   "cell_type": "code",
   "execution_count": 9,
   "metadata": {},
   "outputs": [
    {
     "name": "stdout",
     "output_type": "stream",
     "text": [
      "Total test set length: 172\n"
     ]
    }
   ],
   "source": [
    "X_train, y_train, X_val, y_val, X_holdout, y_holdout = load_data()\n",
    "\n",
    "image_shape = X_holdout.shape[1:-1]"
   ]
  },
  {
   "cell_type": "markdown",
   "metadata": {},
   "source": [
    "## Load mask"
   ]
  },
  {
   "cell_type": "code",
   "execution_count": 10,
   "metadata": {
    "collapsed": true
   },
   "outputs": [],
   "source": [
    "mri_shape = X_holdout.shape[2:]\n",
    "\n",
    "if False:\n",
    "    neuromorph_map = nibabel.load(nmm_mask_path).get_data()\n",
    "    nmm_mask = scale_mask(neuromorph_map, mri_shape)\n",
    "    save_nifti(nmm_mask_path_scaled, nmm_mask)\n",
    "else:\n",
    "    nmm_mask = load_nifti(nmm_mask_path_scaled)\n",
    "\n",
    "# all_areas holds the area name and a tuple with the minimum \n",
    "# idx in the NMM mask and the maximum idx in the NMM mask belonging to that area\n",
    "area_masks = {k: None for k in all_areas.keys()}\n",
    "for name, (min_idx, max_idx) in all_areas.items():\n",
    "    area_mask = np.zeros(mri_shape)\n",
    "    area_mask[np.logical_and(nmm_mask>=min_idx, nmm_mask<=max_idx)] = 1\n",
    "    area_masks[name] = area_mask"
   ]
  },
  {
   "cell_type": "markdown",
   "metadata": {},
   "source": [
    "## Evaluate Guided Backprop and LRP on dataset"
   ]
  },
  {
   "cell_type": "code",
   "execution_count": 11,
   "metadata": {
    "collapsed": true
   },
   "outputs": [],
   "source": [
    "def run_guided_backprop(net, image_tensor):\n",
    "    return interpretation.guided_backprop(net, image_tensor, cuda=True, verbose=False, apply_softmax=False)\n",
    "\n",
    "def run_LRP(net, image_tensor):\n",
    "    return inn_model.innvestigate(in_tensor=image_tensor, rel_for_class=1)"
   ]
  },
  {
   "cell_type": "code",
   "execution_count": 12,
   "metadata": {
    "collapsed": true
   },
   "outputs": [],
   "source": [
    "cases = [\"AD\", \"HC\", \"TP\", \"TN\", \"FP\", \"FN\"]\n",
    "mean_maps_GB = {case: np.zeros(mri_shape) for case in cases}\n",
    "mean_maps_LRP = {case: np.zeros(mri_shape) for case in cases}\n",
    "rs_per_area_LRP = {case: {k: [] for k in all_areas.keys()} for case in cases}\n",
    "rs_per_area_GB = {case: {k: [] for k in all_areas.keys()} for case in cases}\n",
    "counts = {case: 0 for case in cases}\n",
    "area_sizes = {k: 0 for k in all_areas.keys()}"
   ]
  },
  {
   "cell_type": "markdown",
   "metadata": {},
   "source": [
    "#####  Run evaluation"
   ]
  },
  {
   "cell_type": "code",
   "execution_count": 17,
   "metadata": {
    "scrolled": true
   },
   "outputs": [
    {
     "name": "stdout",
     "output_type": "stream",
     "text": [
      "Completed 100.00%  \r"
     ]
    }
   ],
   "source": [
    "num_samples = len(X_holdout)\n",
    "\n",
    "ad_score_list = []\n",
    "\n",
    "for i, (image, label) in enumerate(zip(X_holdout, y_holdout)):\n",
    "    image_tensor = torch.Tensor(image[None]).cuda(device)   \n",
    "    #GB_map = run_guided_backprop(inn_model, image_tensor).squeeze()\n",
    "    AD_score, LRP_map = run_LRP(inn_model, image_tensor)\n",
    "    AD_score = AD_score[0][1].detach().cpu().numpy()\n",
    "    LRP_map = LRP_map.detach().numpy().squeeze()\n",
    "    \n",
    "    \n",
    "    true_case = \"AD\" if label else \"HC\"\n",
    "    if AD_score.round() and label:\n",
    "        case = \"TP\"\n",
    "    elif AD_score.round() and not label:\n",
    "        case = \"FP\"\n",
    "    elif not AD_score.round() and label:\n",
    "        case = \"FN\"\n",
    "    elif not AD_score.round() and not label:\n",
    "        case = \"TN\"\n",
    "    \n",
    "    save_nifti(os.path.join(output_dir, \"LRP_{:03d}_pred_{}.nii\".format(i, case)),\n",
    "           LRP_map)\n",
    "    \n",
    "    print(\"Completed {0:3.2f}%  \\r\".format(100*(i+1)/num_samples), end=\"\")\n",
    "        "
   ]
  },
  {
   "cell_type": "code",
   "execution_count": 18,
   "metadata": {
    "collapsed": true
   },
   "outputs": [],
   "source": [
    "nifti = load_nifti(os.path.join(output_dir, \"LRP_035_pred_TN.nii\"))"
   ]
  },
  {
   "cell_type": "code",
   "execution_count": 21,
   "metadata": {
    "collapsed": true
   },
   "outputs": [],
   "source": [
    "import matplotlib.pyplot as plt\n",
    "%matplotlib inline"
   ]
  },
  {
   "cell_type": "code",
   "execution_count": 23,
   "metadata": {},
   "outputs": [
    {
     "data": {
      "text/plain": [
       "<matplotlib.image.AxesImage at 0x7fe5257adc88>"
      ]
     },
     "execution_count": 23,
     "metadata": {},
     "output_type": "execute_result"
    },
    {
     "data": {
      "image/png": "[encoded data removed]",
      "text/plain": [
       "<Figure size 432x288 with 1 Axes>"
      ]
     },
     "metadata": {},
     "output_type": "display_data"
    }
   ],
   "source": [
    "plt.imshow(np.rot90(nifti[:,:,68]), cmap='Reds')"
   ]
  },
  {
   "cell_type": "code",
   "execution_count": null,
   "metadata": {
    "collapsed": true
   },
   "outputs": [],
   "source": []
  }
 ],
 "metadata": {
  "kernelspec": {
   "display_name": "Python (mort1)",
   "language": "python",
   "name": "mort1"
  },
  "language_info": {
   "codemirror_mode": {
    "name": "ipython",
    "version": 3
   },
   "file_extension": ".py",
   "mimetype": "text/x-python",
   "name": "python",
   "nbconvert_exporter": "python",
   "pygments_lexer": "ipython3",
   "version": "3.6.5"
  }
 },
 "nbformat": 4,
 "nbformat_minor": 2
}
